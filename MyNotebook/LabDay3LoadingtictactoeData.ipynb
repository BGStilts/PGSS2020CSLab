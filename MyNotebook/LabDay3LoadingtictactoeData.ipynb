{
  "nbformat": 4,
  "nbformat_minor": 0,
  "metadata": {
    "colab": {
      "name": "LabDay3LoadingtictactoeData.ipynb",
      "provenance": [],
      "collapsed_sections": [],
      "toc_visible": true
    },
    "kernelspec": {
      "name": "python3",
      "display_name": "Python 3"
    }
  },
  "cells": [
    {
      "cell_type": "markdown",
      "metadata": {
        "id": "qABRNZoL5PgU",
        "colab_type": "text"
      },
      "source": [
        "# Load Data"
      ]
    },
    {
      "cell_type": "code",
      "metadata": {
        "id": "BeQ9DwR55AWE",
        "colab_type": "code",
        "colab": {}
      },
      "source": [
        "# https://archive.ics.uci.edu/ml/machine-learning-databases/tic-tac-toe/tic-tac-toe.data\n",
        "TicTacToeFromUCI = pd.read_csv('https://archive.ics.uci.edu/ml/machine-learning-databases/tic-tac-toe/tic-tac-toe.data', header = None)"
      ],
      "execution_count": 23,
      "outputs": []
    },
    {
      "cell_type": "markdown",
      "metadata": {
        "id": "sGEfc9kZ54BH",
        "colab_type": "text"
      },
      "source": [
        "# Print Out data"
      ]
    },
    {
      "cell_type": "code",
      "metadata": {
        "id": "vXsh-HBh58Ls",
        "colab_type": "code",
        "colab": {
          "base_uri": "https://localhost:8080/",
          "height": 224
        },
        "outputId": "e94fc15c-f773-423d-d1a3-14ffdff31471"
      },
      "source": [
        "TicTacToeFromUCI.columns = ['Space1','Space2','Space3','Space4','Space5','Space6','Space7','Space8','Space9','positive' ]\n",
        "TicTacToeFromUCI.head()\n"
      ],
      "execution_count": 24,
      "outputs": [
        {
          "output_type": "execute_result",
          "data": {
            "text/html": [
              "<div>\n",
              "<style scoped>\n",
              "    .dataframe tbody tr th:only-of-type {\n",
              "        vertical-align: middle;\n",
              "    }\n",
              "\n",
              "    .dataframe tbody tr th {\n",
              "        vertical-align: top;\n",
              "    }\n",
              "\n",
              "    .dataframe thead th {\n",
              "        text-align: right;\n",
              "    }\n",
              "</style>\n",
              "<table border=\"1\" class=\"dataframe\">\n",
              "  <thead>\n",
              "    <tr style=\"text-align: right;\">\n",
              "      <th></th>\n",
              "      <th>Space1</th>\n",
              "      <th>Space2</th>\n",
              "      <th>Space3</th>\n",
              "      <th>Space4</th>\n",
              "      <th>Space5</th>\n",
              "      <th>Space6</th>\n",
              "      <th>Space7</th>\n",
              "      <th>Space8</th>\n",
              "      <th>Space9</th>\n",
              "      <th>positive</th>\n",
              "    </tr>\n",
              "  </thead>\n",
              "  <tbody>\n",
              "    <tr>\n",
              "      <th>0</th>\n",
              "      <td>x</td>\n",
              "      <td>x</td>\n",
              "      <td>x</td>\n",
              "      <td>x</td>\n",
              "      <td>o</td>\n",
              "      <td>o</td>\n",
              "      <td>x</td>\n",
              "      <td>o</td>\n",
              "      <td>o</td>\n",
              "      <td>positive</td>\n",
              "    </tr>\n",
              "    <tr>\n",
              "      <th>1</th>\n",
              "      <td>x</td>\n",
              "      <td>x</td>\n",
              "      <td>x</td>\n",
              "      <td>x</td>\n",
              "      <td>o</td>\n",
              "      <td>o</td>\n",
              "      <td>o</td>\n",
              "      <td>x</td>\n",
              "      <td>o</td>\n",
              "      <td>positive</td>\n",
              "    </tr>\n",
              "    <tr>\n",
              "      <th>2</th>\n",
              "      <td>x</td>\n",
              "      <td>x</td>\n",
              "      <td>x</td>\n",
              "      <td>x</td>\n",
              "      <td>o</td>\n",
              "      <td>o</td>\n",
              "      <td>o</td>\n",
              "      <td>o</td>\n",
              "      <td>x</td>\n",
              "      <td>positive</td>\n",
              "    </tr>\n",
              "    <tr>\n",
              "      <th>3</th>\n",
              "      <td>x</td>\n",
              "      <td>x</td>\n",
              "      <td>x</td>\n",
              "      <td>x</td>\n",
              "      <td>o</td>\n",
              "      <td>o</td>\n",
              "      <td>o</td>\n",
              "      <td>b</td>\n",
              "      <td>b</td>\n",
              "      <td>positive</td>\n",
              "    </tr>\n",
              "    <tr>\n",
              "      <th>4</th>\n",
              "      <td>x</td>\n",
              "      <td>x</td>\n",
              "      <td>x</td>\n",
              "      <td>x</td>\n",
              "      <td>o</td>\n",
              "      <td>o</td>\n",
              "      <td>b</td>\n",
              "      <td>o</td>\n",
              "      <td>b</td>\n",
              "      <td>positive</td>\n",
              "    </tr>\n",
              "  </tbody>\n",
              "</table>\n",
              "</div>"
            ],
            "text/plain": [
              "  Space1 Space2 Space3 Space4 Space5 Space6 Space7 Space8 Space9  positive\n",
              "0      x      x      x      x      o      o      x      o      o  positive\n",
              "1      x      x      x      x      o      o      o      x      o  positive\n",
              "2      x      x      x      x      o      o      o      o      x  positive\n",
              "3      x      x      x      x      o      o      o      b      b  positive\n",
              "4      x      x      x      x      o      o      b      o      b  positive"
            ]
          },
          "metadata": {
            "tags": []
          },
          "execution_count": 24
        }
      ]
    },
    {
      "cell_type": "markdown",
      "metadata": {
        "id": "4qsH5DYgAHUv",
        "colab_type": "text"
      },
      "source": [
        "# Final Product"
      ]
    },
    {
      "cell_type": "code",
      "metadata": {
        "id": "KgG1LPDuAKH8",
        "colab_type": "code",
        "colab": {}
      },
      "source": [
        "TicTacToeFromUCI.to_csv('TicTacToeFromUCI.csv')"
      ],
      "execution_count": 25,
      "outputs": []
    }
  ]
}